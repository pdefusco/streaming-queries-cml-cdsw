{
 "cells": [
  {
   "cell_type": "code",
   "execution_count": 1,
   "metadata": {},
   "outputs": [
    {
     "name": "stdout",
     "output_type": "stream",
     "text": [
      "Collecting impyla\n",
      "\u001b[?25l  Downloading https://files.pythonhosted.org/packages/6d/b3/8c3ea6e74b14d4edd55f0478b413551126414f5e1175aa5a22b5787af976/impyla-0.16.2.tar.gz (236kB)\n",
      "\u001b[K     |████████████████████████████████| 245kB 3.0MB/s eta 0:00:01\n",
      "\u001b[?25hRequirement already satisfied: six in /usr/local/lib/python3.6/site-packages (from impyla) (1.13.0)\n",
      "Requirement already satisfied: bitarray in /opt/cloudera/parcels/Anaconda-5.1.0.1/lib/python3.6/site-packages (from impyla) (0.8.1)\n",
      "Collecting thrift>=0.9.3\n",
      "\u001b[?25l  Downloading https://files.pythonhosted.org/packages/97/1e/3284d19d7be99305eda145b8aa46b0c33244e4a496ec66440dac19f8274d/thrift-0.13.0.tar.gz (59kB)\n",
      "\u001b[K     |████████████████████████████████| 61kB 9.0MB/s  eta 0:00:01\n",
      "\u001b[?25hCollecting thriftpy2<0.5.0,>=0.4.0\n",
      "\u001b[?25l  Downloading https://files.pythonhosted.org/packages/a9/f0/9bf08e6b5983aa6a6103818da21eadfaea1ad99ec9882be3e75a30e8e9ff/thriftpy2-0.4.11.tar.gz (498kB)\n",
      "\u001b[K     |████████████████████████████████| 501kB 7.4MB/s eta 0:00:01\n",
      "\u001b[?25hRequirement already satisfied: ply<4.0,>=3.4 in /opt/cloudera/parcels/Anaconda-5.1.0.1/lib/python3.6/site-packages (from thriftpy2<0.5.0,>=0.4.0->impyla) (3.10)\n",
      "Building wheels for collected packages: impyla, thrift, thriftpy2\n",
      "  Building wheel for impyla (setup.py) ... \u001b[?25ldone\n",
      "\u001b[?25h  Created wheel for impyla: filename=impyla-0.16.2-cp36-none-any.whl size=254680 sha256=791b1915137bdc46a3b0ca036872186adf235616fab6cf51d6738e6b50caee6b\n",
      "  Stored in directory: /home/cdsw/.cache/pip/wheels/08/64/08/7804d27f94a792cffa3d8e2bcf57ba031c796b1b28b004662e\n",
      "  Building wheel for thrift (setup.py) ... \u001b[?25ldone\n",
      "\u001b[?25h  Created wheel for thrift: filename=thrift-0.13.0-cp36-cp36m-linux_x86_64.whl size=406617 sha256=c45f1821d113866d72f041af1ddc653826ece9548e2ba4ce742ef2bdb14d11b8\n",
      "  Stored in directory: /home/cdsw/.cache/pip/wheels/02/a2/46/689ccfcf40155c23edc7cdbd9de488611c8fdf49ff34b1706e\n",
      "  Building wheel for thriftpy2 (setup.py) ... \u001b[?25ldone\n",
      "\u001b[?25h  Created wheel for thriftpy2: filename=thriftpy2-0.4.11-cp36-cp36m-linux_x86_64.whl size=937871 sha256=470d73c33a31fca4d0f5dedf52a94e9d0712197bdfe301772484072a251c2160\n",
      "  Stored in directory: /home/cdsw/.cache/pip/wheels/58/ae/4c/216f0f9a8a65dcb81e633b70a77740a879e3e923a523eeb315\n",
      "Successfully built impyla thrift thriftpy2\n",
      "Installing collected packages: thrift, thriftpy2, impyla\n",
      "Successfully installed impyla-0.16.2 thrift-0.13.0 thriftpy2-0.4.11\n",
      "\u001b[33mWARNING: You are using pip version 19.3.1; however, version 20.0.2 is available.\n",
      "You should consider upgrading via the 'pip install --upgrade pip' command.\u001b[0m\n"
     ]
    }
   ],
   "source": [
    "!pip3 install impyla"
   ]
  },
  {
   "cell_type": "code",
   "execution_count": 9,
   "metadata": {},
   "outputs": [],
   "source": [
    "import matplotlib.pyplot as plt"
   ]
  },
  {
   "cell_type": "code",
   "execution_count": 13,
   "metadata": {},
   "outputs": [
    {
     "data": {
      "text/html": [
       "<div>\n",
       "<style scoped>\n",
       "    .dataframe tbody tr th:only-of-type {\n",
       "        vertical-align: middle;\n",
       "    }\n",
       "\n",
       "    .dataframe tbody tr th {\n",
       "        vertical-align: top;\n",
       "    }\n",
       "\n",
       "    .dataframe thead th {\n",
       "        text-align: right;\n",
       "    }\n",
       "</style>\n",
       "<table border=\"1\" class=\"dataframe\">\n",
       "  <thead>\n",
       "    <tr style=\"text-align: right;\">\n",
       "      <th></th>\n",
       "      <th>count(*)</th>\n",
       "    </tr>\n",
       "  </thead>\n",
       "  <tbody>\n",
       "    <tr>\n",
       "      <td>0</td>\n",
       "      <td>739</td>\n",
       "    </tr>\n",
       "  </tbody>\n",
       "</table>\n",
       "</div>"
      ],
      "text/plain": [
       "   count(*)\n",
       "0       739"
      ]
     },
     "execution_count": 13,
     "metadata": {},
     "output_type": "execute_result"
    }
   ],
   "source": [
    "from impala.dbapi import connect\n",
    "conn = connect(host='ec2-13-59-175-64.us-east-2.compute.amazonaws.com', port=21050)\n",
    "from impala.util import as_pandas\n",
    "cur = conn.cursor()\n",
    "\n",
    "cur.execute('select count(*) from sensors')\n",
    "df = as_pandas(cur)\n",
    "\n",
    "df.head()"
   ]
  },
  {
   "cell_type": "code",
   "execution_count": 5,
   "metadata": {},
   "outputs": [],
   "source": [
    "cur.execute('select * from sensors')\n",
    "df = as_pandas(cur)"
   ]
  },
  {
   "cell_type": "code",
   "execution_count": 6,
   "metadata": {},
   "outputs": [
    {
     "data": {
      "text/plain": [
       "Index(['sensor_id', 'sensor_ts', 'sensor_0', 'sensor_1', 'sensor_2',\n",
       "       'sensor_3', 'sensor_4', 'sensor_5', 'sensor_6', 'sensor_7', 'sensor_8',\n",
       "       'sensor_9', 'sensor_10', 'sensor_11', 'is_healthy'],\n",
       "      dtype='object')"
      ]
     },
     "execution_count": 6,
     "metadata": {},
     "output_type": "execute_result"
    }
   ],
   "source": [
    "df.columns"
   ]
  },
  {
   "cell_type": "code",
   "execution_count": 12,
   "metadata": {},
   "outputs": [
    {
     "data": {
      "image/png": "[encoded data removed]",
      "text/plain": [
       "<matplotlib.figure.Figure at 0x7f0bbc634080>"
      ]
     },
     "metadata": {
      "needs_background": "light"
     },
     "output_type": "display_data"
    }
   ],
   "source": [
    "import seaborn as sns\n",
    "\n",
    "sns.countplot(x='is_healthy', data=df).set(title='Healthy vs Unhealthy Sensors')\n",
    "plt.show()"
   ]
  },
  {
   "cell_type": "code",
   "execution_count": null,
   "metadata": {},
   "outputs": [],
   "source": []
  }
 ],
 "metadata": {
  "kernelspec": {
   "display_name": "Python 3",
   "language": "python",
   "name": "python3"
  },
  "language_info": {
   "codemirror_mode": {
    "name": "ipython",
    "version": 3
   },
   "file_extension": ".py",
   "mimetype": "text/x-python",
   "name": "python",
   "nbconvert_exporter": "python",
   "pygments_lexer": "ipython3",
   "version": "3.6.9"
  }
 },
 "nbformat": 4,
 "nbformat_minor": 2
}
